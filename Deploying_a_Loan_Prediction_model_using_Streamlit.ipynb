{
  "nbformat": 4,
  "nbformat_minor": 0,
  "metadata": {
    "kernelspec": {
      "display_name": "Python 3",
      "language": "python",
      "name": "python3"
    },
    "language_info": {
      "codemirror_mode": {
        "name": "ipython",
        "version": 3
      },
      "file_extension": ".py",
      "mimetype": "text/x-python",
      "name": "python",
      "nbconvert_exporter": "python",
      "pygments_lexer": "ipython3",
      "version": "3.6.4"
    },
    "colab": {
      "name": "Deploying a Loan Prediction model using Streamlit.ipynb",
      "provenance": [],
      "collapsed_sections": []
    },
    "accelerator": "GPU"
  },
  "cells": [
    {
      "cell_type": "markdown",
      "metadata": {
        "id": "Ebv0gc7vhSpM"
      },
      "source": [
        "## Steps to build the Loan Eligibility model\n",
        "\n",
        "1. Loading the dataset\n",
        "2. Pre-processing the dataset\n",
        "3. Building the Loan Prediction model"
      ]
    },
    {
      "cell_type": "code",
      "metadata": {
        "id": "2kmSzviuAVdc"
      },
      "source": [
        "from google.colab import drive\n",
        "drive.mount('/content/drive')"
      ],
      "execution_count": null,
      "outputs": []
    },
    {
      "cell_type": "markdown",
      "metadata": {
        "id": "iWZBfvFVexbZ"
      },
      "source": [
        "## 1. Loading the dataset"
      ]
    },
    {
      "cell_type": "code",
      "metadata": {
        "id": "DHOWaQJbUiS6"
      },
      "source": [
        "# importing libraries\n",
        "import pandas as pd\n",
        "\n",
        "from google.colab import drive\n",
        "drive.mount('/content/drive')\n",
        "\n"
      ],
      "execution_count": null,
      "outputs": []
    },
    {
      "cell_type": "code",
      "metadata": {
        "id": "8w1InZg9QMhd"
      },
      "source": [
        "\n",
        "# loading the dataset\n",
        "train = pd.read_csv( r'/content/drive/My Drive/loan_prediction/loan_data.csv')\n",
        "train.head()\n"
      ],
      "execution_count": null,
      "outputs": []
    },
    {
      "cell_type": "markdown",
      "metadata": {
        "id": "oBhn9zl-e2RG"
      },
      "source": [
        "## 2. Pre-processing the dataset"
      ]
    },
    {
      "cell_type": "code",
      "metadata": {
        "id": "rifJBtUhJSvg"
      },
      "source": [
        "# converting categories into numbers\n",
        "train['Gender']= train['Gender'].map({'Male':0, 'Female':1})\n",
        "train['Married']= train['Married'].map({'No':0, 'Yes':1})\n",
        "train['Loan_Status']= train['Loan_Status'].map({'N':0, 'Y':1})"
      ],
      "execution_count": null,
      "outputs": []
    },
    {
      "cell_type": "code",
      "metadata": {
        "id": "BkjwkuYgP6j_"
      },
      "source": [
        "# separating dependent and independent variables\n",
        "X = train[['Gender', 'Married', 'ApplicantIncome', 'LoanAmount']]\n",
        "y = train.Loan_Status"
      ],
      "execution_count": null,
      "outputs": []
    },
    {
      "cell_type": "markdown",
      "metadata": {
        "id": "7Yx5GZfZfetV"
      },
      "source": [
        "## 3. Building the Loan Prediction model"
      ]
    },
    {
      "cell_type": "code",
      "metadata": {
        "id": "uDVoIiLiYpTh"
      },
      "source": [
        "# importing machine learning model\n",
        "from sklearn.linear_model import LogisticRegression"
      ],
      "execution_count": null,
      "outputs": []
    },
    {
      "cell_type": "code",
      "metadata": {
        "id": "dTmcMYGTZBc8"
      },
      "source": [
        "# training the logistic regression model\n",
        "model = LogisticRegression() \n",
        "model.fit(X, y)"
      ],
      "execution_count": null,
      "outputs": []
    },
    {
      "cell_type": "code",
      "metadata": {
        "id": "jONqkkqUJSwe"
      },
      "source": [
        "# saving the model \n",
        "import pickle \n",
        "pickle_out = open(\"/content/drive/My Drive/loan_prediction/classifier.pkl\", mode = \"wb\") \n",
        "pickle.dump(model, pickle_out) \n",
        "pickle_out.close()"
      ],
      "execution_count": null,
      "outputs": []
    },
    {
      "cell_type": "markdown",
      "metadata": {
        "id": "jPtUSXpZfntZ"
      },
      "source": [
        "## Deploying the machine learning model using streamlit\n",
        "\n",
        "1. Building the Frontend of the application\n",
        "2. Loading and Pre-processing the data\n",
        "3. Building the Machine Learning model to automate Loan Eligibility\n",
        "4. Deploying the application"
      ]
    },
    {
      "cell_type": "markdown",
      "metadata": {
        "id": "UyQbUqDr7AUK"
      },
      "source": [
        "## 1. Building the Frontend of the application\n",
        "\n",
        "1.1 Install Required Libraries<br>\n",
        "1.2 Creating the Frontend of the app using Streamlit\n",
        "\n",
        "### 1.1 Install Required Libraries##"
      ]
    },
    {
      "cell_type": "code",
      "metadata": {
        "id": "8o2Nv-0GVhsv"
      },
      "source": [
        "# installing pyngrok\n",
        "!pip install -q pyngrok"
      ],
      "execution_count": null,
      "outputs": []
    },
    {
      "cell_type": "code",
      "metadata": {
        "id": "96rKP77EJSvR"
      },
      "source": [
        "# installing streamlit\n",
        "!pip install -q streamlit"
      ],
      "execution_count": null,
      "outputs": []
    },
    {
      "cell_type": "markdown",
      "metadata": {
        "id": "rlKW2k6x7YS-"
      },
      "source": [
        "### 1.2. Creating the frontend of the app using streamlit"
      ]
    },
    {
      "cell_type": "code",
      "metadata": {
        "id": "ZC4c6EMgRYX1"
      },
      "source": [
        "# creating the script\n",
        "%%writefile app.py\n",
        "\n",
        "# importing required libraries\n",
        "import pickle\n",
        "import streamlit as st\n",
        "\n",
        "# loading the trained model\n",
        "pickle_in = open('/content/drive/My Drive/loan_prediction/classifier.pkl', 'rb') \n",
        "classifier = pickle.load(pickle_in)\n",
        "\n",
        "# this is the main function in which we define our app  \n",
        "def main():       \n",
        "    # header of the page \n",
        "    html_temp = \"\"\" \n",
        "    <div style =\"background-color:yellow;padding:13px\"> \n",
        "    <h1 style =\"color:black;text-align:center;\">Check your Loan Eligibility</h1> \n",
        "    </div> \n",
        "    \"\"\"\n",
        "    st.markdown(html_temp, unsafe_allow_html = True) \n",
        "\n",
        "    # following lines create boxes in which user can enter data required to make prediction \n",
        "    Gender = st.selectbox('Gender',(\"Male\",\"Female\",\"Other\"))\n",
        "    Married = st.selectbox('Marital Status',(\"Unmarried\",\"Married\",\"Other\")) \n",
        "    ApplicantIncome = st.number_input(\"Monthly Income in Kenya Shillings\") \n",
        "    LoanAmount = st.number_input(\"Loan Amount in Kenya Shillings\")\n",
        "    result =\"\"\n",
        "      \n",
        "    # when 'Check' is clicked, make the prediction and store it \n",
        "    if st.button(\"Check\"): \n",
        "        result = prediction(Gender, Married, ApplicantIncome, LoanAmount) \n",
        "        st.success('Your loan is {}'.format(result))\n",
        " \n",
        "# defining the function which will make the prediction using the data which the user inputs \n",
        "def prediction(Gender, Married, ApplicantIncome, LoanAmount): \n",
        "\n",
        "    # 2. Loading and Pre-processing the data \n",
        "\n",
        "    if Gender == \"Male\":\n",
        "        Gender = 0\n",
        "    else:\n",
        "        Gender = 1\n",
        "\n",
        "    if Married == \"Married\":\n",
        "        Married = 1\n",
        "    else:\n",
        "        Married = 0\n",
        "\n",
        "    \n",
        "\n",
        "    prediction = classifier.predict( \n",
        "        [[Gender, Married, ApplicantIncome, LoanAmount]])\n",
        "     \n",
        "    if prediction == 0:\n",
        "        pred = 'Rejected'\n",
        "    else:\n",
        "        pred = 'Approved'\n",
        "    return pred\n",
        "     \n",
        "if __name__=='__main__': \n",
        "    main()"
      ],
      "execution_count": null,
      "outputs": []
    },
    {
      "cell_type": "markdown",
      "metadata": {
        "id": "dWM7e9709d72"
      },
      "source": [
        "## 4. Deploying the application"
      ]
    },
    {
      "cell_type": "code",
      "metadata": {
        "id": "fLsQUC3qgtZl"
      },
      "source": [
        "# running the app\n",
        "!streamlit run app.py &>/dev/null&"
      ],
      "execution_count": null,
      "outputs": []
    },
    {
      "cell_type": "code",
      "metadata": {
        "id": "G93y3SeHgf6H"
      },
      "source": [
        "# making the locally-hosted web application to be publicly accessible\n",
        "from pyngrok import ngrok\n",
        "\n",
        "public_url = ngrok.connect('8501')\n",
        "public_url"
      ],
      "execution_count": null,
      "outputs": []
    }
  ]
}